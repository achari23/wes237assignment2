{
 "cells": [
  {
   "cell_type": "code",
   "execution_count": 1,
   "id": "20100e64",
   "metadata": {},
   "outputs": [
    {
     "data": {
      "application/javascript": [
       "\n",
       "try {\n",
       "require(['notebook/js/codecell'], function(codecell) {\n",
       "  codecell.CodeCell.options_default.highlight_modes[\n",
       "      'magic_text/x-csrc'] = {'reg':[/^%%microblaze/]};\n",
       "  Jupyter.notebook.events.one('kernel_ready.Kernel', function(){\n",
       "      Jupyter.notebook.get_cells().map(function(cell){\n",
       "          if (cell.cell_type == 'code'){ cell.auto_highlight(); } }) ;\n",
       "  });\n",
       "});\n",
       "} catch (e) {};\n"
      ]
     },
     "metadata": {},
     "output_type": "display_data"
    },
    {
     "data": {
      "application/javascript": [
       "\n",
       "try {\n",
       "require(['notebook/js/codecell'], function(codecell) {\n",
       "  codecell.CodeCell.options_default.highlight_modes[\n",
       "      'magic_text/x-csrc'] = {'reg':[/^%%pybind11/]};\n",
       "  Jupyter.notebook.events.one('kernel_ready.Kernel', function(){\n",
       "      Jupyter.notebook.get_cells().map(function(cell){\n",
       "          if (cell.cell_type == 'code'){ cell.auto_highlight(); } }) ;\n",
       "  });\n",
       "});\n",
       "} catch (e) {};\n"
      ]
     },
     "metadata": {},
     "output_type": "display_data"
    }
   ],
   "source": [
    "from pynq.overlays.base import BaseOverlay\n",
    "import time\n",
    "from datetime import datetime\n",
    "base = BaseOverlay(\"base.bit\")\n",
    "import threading\n",
    "btns = base.btns_gpio\n",
    "import random"
   ]
  },
  {
   "cell_type": "code",
   "execution_count": 2,
   "id": "f5f44ce1",
   "metadata": {},
   "outputs": [],
   "source": [
    "%%microblaze base.PMODB\n",
    "\n",
    "#include \"gpio.h\"\n",
    "#include \"pyprintf.h\"\n",
    "\n",
    "//Function to turn on/off a selected pin of PMODB\n",
    "void write_gpio(unsigned int pin, unsigned int val){\n",
    "    if (val > 1){\n",
    "        pyprintf(\"pin value must be 0 or 1\");\n",
    "    }\n",
    "    \n",
    "    gpio pin_out = gpio_open(pin);\n",
    "    gpio_set_direction(pin_out, GPIO_OUT);\n",
    "    gpio_write(pin_out, val);\n",
    "}\n",
    "\n",
    "void reset_gpio() {\n",
    "    write_gpio(1,0);\n",
    "    write_gpio(2,0);\n",
    "    write_gpio(3,0);\n",
    "    write_gpio(0,0);\n",
    "}"
   ]
  },
  {
   "cell_type": "code",
   "execution_count": 3,
   "id": "5199f9f9",
   "metadata": {},
   "outputs": [],
   "source": [
    "reset_gpio()\n",
    "def blink(t, d, n):\n",
    "    '''\n",
    "    Function to blink the LEDs\n",
    "    Params:\n",
    "      t: number of times to blink the LED\n",
    "      d: duration (in seconds) for the LED to be on/off\n",
    "      n: index of the LED (0 to 3)\n",
    "    '''\n",
    "    for i in range(t):\n",
    "        base.leds[n].toggle()\n",
    "        time.sleep(d)\n",
    "    base.leds[n].off()\n",
    "    \n",
    "def blink_g(t,d):\n",
    "    val = 0\n",
    "    for i in range(t):\n",
    "        write_gpio(2,val)\n",
    "        time.sleep(d)\n",
    "        if val: \n",
    "            val = 0\n",
    "        else:\n",
    "            val = 1\n",
    "    reset_gpio()"
   ]
  },
  {
   "cell_type": "code",
   "execution_count": 4,
   "id": "cb976216",
   "metadata": {},
   "outputs": [],
   "source": [
    "def philosopher(l1,l2,n):\n",
    "    \n",
    "    while True: \n",
    "        f1 = l1.acquire(True)\n",
    "        f2 = l2.acquire(True)\n",
    "        if f1 and f2: \n",
    "            print(\"Philosopher {} is eating!\".format(n))\n",
    "            if n < 4: \n",
    "                blink(random.randint(15,20),.5,n)\n",
    "            else: \n",
    "                blink_g(random.randint(15,20),.5)\n",
    "            time.sleep(0)\n",
    "            l1.release()\n",
    "            l2.release()\n",
    "            print(\"Philosopher {} is finished eating and now sleeps!\".format(n))\n",
    "            if n < 4: \n",
    "                blink(random.randint(1,7),1,n)\n",
    "            else: \n",
    "                blink_g(random.randint(1,7),1)\n",
    "                \n",
    "            time.sleep(0)\n",
    "            print(\"Philosopher {} is awaken and is starving\".format(n))\n",
    "            if n < 4: \n",
    "                base.leds[n].off()\n",
    "            else: \n",
    "                reset_gpio()\n",
    "            time.sleep(0)\n",
    "        if btns.read() : \n",
    "            if l1.locked(): \n",
    "                l1.release()\n",
    "            if l2.locked(): \n",
    "                l2.release()\n",
    "            reset_gpio()\n",
    "            for i in [0,1,2,3]:\n",
    "                base.leds[n].off()           \n",
    "            break"
   ]
  },
  {
   "cell_type": "code",
   "execution_count": 5,
   "id": "2e3d53c1",
   "metadata": {
    "scrolled": true
   },
   "outputs": [
    {
     "name": "stdout",
     "output_type": "stream",
     "text": [
      "Philosopher 0 is eating!\n",
      "thread <Thread(Thread-4, started 2929906784)> started!\n",
      "thread <Thread(Thread-5, started 2882065504)> started!\n",
      "Philosopher 2 is eating!thread <Thread(Thread-6, started 2873672800)> started!\n",
      "\n",
      "thread <Thread(Thread-7, started 2865280096)> started!\n",
      "thread <Thread(Thread-8, started 2856887392)> started!\n",
      "Philosopher 2 is finished eating and now sleeps!\n",
      "Philosopher 0 is finished eating and now sleeps!Philosopher 4 is eating!\n",
      "Philosopher 1 is eating!\n",
      "\n",
      "Philosopher 2 is awaken and is starving\n",
      "Philosopher 0 is awaken and is starving\n",
      "Philosopher 4 is finished eating and now sleeps!Philosopher 3 is eating!\n",
      "\n",
      "Philosopher 1 is finished eating and now sleeps!Philosopher 0 is eating!\n",
      "\n",
      "Philosopher 1 is awaken and is starving\n",
      "Philosopher 4 is awaken and is starving\n",
      "Philosopher 3 is finished eating and now sleeps!\n",
      "Philosopher 2 is eating!\n",
      "Philosopher 0 is finished eating and now sleeps!Philosopher 3 is awaken and is starving\n",
      "\n",
      "Philosopher 4 is eating!\n",
      "Philosopher 0 is awaken and is starving\n",
      "Philosopher 4 is finished eating and now sleeps!\n",
      "Philosopher 2 is finished eating and now sleeps!Philosopher 1 is eating!Philosopher 3 is eating!\n",
      "\n",
      "\n",
      "Philosopher 4 is awaken and is starving\n",
      "Philosopher 2 is awaken and is starving\n",
      "Philosopher 3 is finished eating and now sleeps!\n",
      "Philosopher 1 is finished eating and now sleeps!Philosopher 0 is eating!\n",
      "Philosopher 2 is eating!\n",
      "\n",
      "Philosopher 1 is awaken and is starving\n",
      "Philosopher 3 is awaken and is starving\n",
      "Philosopher 0 is finished eating and now sleeps!Philosopher 4 is eating!\n",
      "Philosopher 2 is finished eating and now sleeps!\n",
      "Philosopher 1 is eating!\n",
      "\n",
      "Philosopher 2 is awaken and is starving\n",
      "Philosopher 0 is awaken and is starving\n",
      "Philosopher 1 is finished eating and now sleeps!\n",
      "Philosopher 4 is finished eating and now sleeps!Philosopher 3 is eating!\n",
      "\n",
      "Philosopher 0 is eating!\n"
     ]
    },
    {
     "name": "stderr",
     "output_type": "stream",
     "text": [
      "Exception in thread Thread-8:\n",
      "Traceback (most recent call last):\n",
      "  File \"/usr/lib/python3.8/threading.py\", line 932, in _bootstrap_inner\n",
      "    self.run()\n",
      "  File \"/usr/lib/python3.8/threading.py\", line 870, in run\n",
      "    self._target(*self._args, **self._kwargs)\n",
      "  File \"<ipython-input-4-25fd98305a6b>\", line 35, in philosopher\n",
      "  File \"/usr/local/share/pynq-venv/lib/python3.8/site-packages/pynq/lib/axigpio.py\", line 226, in __getitem__\n",
      "    raise IndexError()\n",
      "IndexError\n"
     ]
    },
    {
     "name": "stdout",
     "output_type": "stream",
     "text": [
      "Philosopher 1 is awaken and is starving\n",
      "Philosopher 4 is awaken and is starving\n"
     ]
    },
    {
     "name": "stderr",
     "output_type": "stream",
     "text": [
      "Exception in thread Thread-4:\n",
      "Traceback (most recent call last):\n",
      "  File \"/usr/lib/python3.8/threading.py\", line 932, in _bootstrap_inner\n",
      "    self.run()\n",
      "  File \"/usr/lib/python3.8/threading.py\", line 870, in run\n",
      "    self._target(*self._args, **self._kwargs)\n",
      "  File \"<ipython-input-4-25fd98305a6b>\", line 13, in philosopher\n",
      "RuntimeError: release unlocked lock\n"
     ]
    },
    {
     "name": "stdout",
     "output_type": "stream",
     "text": [
      "Thread-4 joined\n",
      "Thread-5 joined\n"
     ]
    },
    {
     "name": "stderr",
     "output_type": "stream",
     "text": [
      "Exception in thread Thread-7:\n",
      "Traceback (most recent call last):\n",
      "  File \"/usr/lib/python3.8/threading.py\", line 932, in _bootstrap_inner\n",
      "    self.run()\n",
      "  File \"/usr/lib/python3.8/threading.py\", line 870, in run\n",
      "    self._target(*self._args, **self._kwargs)\n",
      "  File \"<ipython-input-4-25fd98305a6b>\", line 14, in philosopher\n",
      "RuntimeError: release unlocked lock\n"
     ]
    },
    {
     "name": "stdout",
     "output_type": "stream",
     "text": [
      "Philosopher 2 is eating!\n"
     ]
    },
    {
     "name": "stderr",
     "output_type": "stream",
     "text": [
      "Exception in thread Thread-6:\n",
      "Traceback (most recent call last):\n",
      "  File \"/usr/lib/python3.8/threading.py\", line 932, in _bootstrap_inner\n",
      "    self.run()\n",
      "  File \"/usr/lib/python3.8/threading.py\", line 870, in run\n",
      "    self._target(*self._args, **self._kwargs)\n",
      "  File \"<ipython-input-4-25fd98305a6b>\", line 13, in philosopher\n",
      "RuntimeError: release unlocked lock\n"
     ]
    },
    {
     "name": "stdout",
     "output_type": "stream",
     "text": [
      "Thread-6 joined\n",
      "Thread-7 joined\n",
      "Thread-8 joined\n"
     ]
    }
   ],
   "source": [
    "fork1 = threading.Lock()\n",
    "fork2 = threading.Lock()\n",
    "fork3 = threading.Lock()\n",
    "fork4 = threading.Lock()\n",
    "fork5 = threading.Lock()\n",
    "\n",
    "threads = []\n",
    "\n",
    "#phil1\n",
    "t1 = threading.Thread(target=philosopher, args=(fork1, fork2, 0))\n",
    "threads.append(t1)\n",
    "\n",
    "\n",
    "#phil2\n",
    "t2 = threading.Thread(target=philosopher, args=(fork2, fork3, 1))\n",
    "threads.append(t2)\n",
    "\n",
    "\n",
    "#phil3\n",
    "t3 = threading.Thread(target=philosopher, args=(fork3, fork4, 2))\n",
    "threads.append(t3)\n",
    "\n",
    "\n",
    "#phil4\n",
    "t4 = threading.Thread(target=philosopher, args=(fork4, fork5, 3))\n",
    "threads.append(t4)\n",
    "\n",
    "#phil5\n",
    "t5 = threading.Thread(target=philosopher, args=(fork5, fork1, 4))\n",
    "threads.append(t5)\n",
    "\n",
    "for t in threads: \n",
    "    t.start()\n",
    "    print(\"thread {} started!\".format(t))\n",
    "for t in threads:\n",
    "    name = t.getName()\n",
    "    t.join()\n",
    "    print('{} joined'.format(name))"
   ]
  },
  {
   "cell_type": "code",
   "execution_count": null,
   "id": "72ba2f02",
   "metadata": {},
   "outputs": [],
   "source": []
  }
 ],
 "metadata": {
  "kernelspec": {
   "display_name": "Python 3",
   "language": "python",
   "name": "python3"
  },
  "language_info": {
   "codemirror_mode": {
    "name": "ipython",
    "version": 3
   },
   "file_extension": ".py",
   "mimetype": "text/x-python",
   "name": "python",
   "nbconvert_exporter": "python",
   "pygments_lexer": "ipython3",
   "version": "3.8.2"
  }
 },
 "nbformat": 4,
 "nbformat_minor": 5
}
